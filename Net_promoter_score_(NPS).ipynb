{
  "nbformat": 4,
  "nbformat_minor": 0,
  "metadata": {
    "colab": {
      "provenance": [],
      "include_colab_link": true
    },
    "kernelspec": {
      "name": "python3",
      "display_name": "Python 3"
    },
    "language_info": {
      "name": "python"
    }
  },
  "cells": [
    {
      "cell_type": "markdown",
      "metadata": {
        "id": "view-in-github",
        "colab_type": "text"
      },
      "source": [
        "<a href=\"https://colab.research.google.com/github/MurliiSharmaa/Image-API-project/blob/main/Net_promoter_score_(NPS).ipynb\" target=\"_parent\"><img src=\"https://colab.research.google.com/assets/colab-badge.svg\" alt=\"Open In Colab\"/></a>"
      ]
    },
    {
      "cell_type": "code",
      "execution_count": null,
      "metadata": {
        "id": "d5mkHHWncuBw"
      },
      "outputs": [],
      "source": []
    },
    {
      "cell_type": "markdown",
      "source": [
        "<img src=\"https://drive.google.com/uc?id=1KPIYlaN68vlL99iApaF5QbeBoyT24-Eu\">"
      ],
      "metadata": {
        "id": "XYm0rZfpc23o"
      }
    },
    {
      "cell_type": "code",
      "source": [
        "import numpy as np"
      ],
      "metadata": {
        "id": "Zm1dsfcFc3UM"
      },
      "execution_count": null,
      "outputs": []
    },
    {
      "cell_type": "code",
      "source": [
        "!pip install --upgrade gdown\n"
      ],
      "metadata": {
        "colab": {
          "base_uri": "https://localhost:8080/"
        },
        "id": "WRGN4RMbdC9o",
        "outputId": "de2029a0-ae52-43b0-c057-dd79a862d02c"
      },
      "execution_count": null,
      "outputs": [
        {
          "output_type": "stream",
          "name": "stdout",
          "text": [
            "Requirement already satisfied: gdown in /usr/local/lib/python3.10/dist-packages (5.1.0)\n",
            "Collecting gdown\n",
            "  Downloading gdown-5.2.0-py3-none-any.whl (18 kB)\n",
            "Requirement already satisfied: beautifulsoup4 in /usr/local/lib/python3.10/dist-packages (from gdown) (4.12.3)\n",
            "Requirement already satisfied: filelock in /usr/local/lib/python3.10/dist-packages (from gdown) (3.15.4)\n",
            "Requirement already satisfied: requests[socks] in /usr/local/lib/python3.10/dist-packages (from gdown) (2.31.0)\n",
            "Requirement already satisfied: tqdm in /usr/local/lib/python3.10/dist-packages (from gdown) (4.66.4)\n",
            "Requirement already satisfied: soupsieve>1.2 in /usr/local/lib/python3.10/dist-packages (from beautifulsoup4->gdown) (2.5)\n",
            "Requirement already satisfied: charset-normalizer<4,>=2 in /usr/local/lib/python3.10/dist-packages (from requests[socks]->gdown) (3.3.2)\n",
            "Requirement already satisfied: idna<4,>=2.5 in /usr/local/lib/python3.10/dist-packages (from requests[socks]->gdown) (3.7)\n",
            "Requirement already satisfied: urllib3<3,>=1.21.1 in /usr/local/lib/python3.10/dist-packages (from requests[socks]->gdown) (2.0.7)\n",
            "Requirement already satisfied: certifi>=2017.4.17 in /usr/local/lib/python3.10/dist-packages (from requests[socks]->gdown) (2024.7.4)\n",
            "Requirement already satisfied: PySocks!=1.5.7,>=1.5.6 in /usr/local/lib/python3.10/dist-packages (from requests[socks]->gdown) (1.7.1)\n",
            "Installing collected packages: gdown\n",
            "  Attempting uninstall: gdown\n",
            "    Found existing installation: gdown 5.1.0\n",
            "    Uninstalling gdown-5.1.0:\n",
            "      Successfully uninstalled gdown-5.1.0\n",
            "Successfully installed gdown-5.2.0\n"
          ]
        }
      ]
    },
    {
      "cell_type": "code",
      "source": [
        "!gdown 1c0ClC8SrPwJq5rrkyMKyPn80nyHcFikK"
      ],
      "metadata": {
        "colab": {
          "base_uri": "https://localhost:8080/"
        },
        "id": "yQDpDtzNdFTp",
        "outputId": "3a2280ed-db6d-4cdb-9207-94d7bacecaf9"
      },
      "execution_count": null,
      "outputs": [
        {
          "output_type": "stream",
          "name": "stdout",
          "text": [
            "Downloading...\n",
            "From: https://drive.google.com/uc?id=1c0ClC8SrPwJq5rrkyMKyPn80nyHcFikK\n",
            "To: /content/survey.txt\n",
            "\r  0% 0.00/2.55k [00:00<?, ?B/s]\r100% 2.55k/2.55k [00:00<00:00, 6.69MB/s]\n"
          ]
        }
      ]
    },
    {
      "cell_type": "code",
      "source": [
        "score = np.loadtxt('survey.txt', dtype ='int')"
      ],
      "metadata": {
        "id": "6_X3QD1XdItU"
      },
      "execution_count": null,
      "outputs": []
    },
    {
      "cell_type": "code",
      "source": [
        "score"
      ],
      "metadata": {
        "colab": {
          "base_uri": "https://localhost:8080/"
        },
        "id": "apGFGZJ2dhrK",
        "outputId": "897a59b9-e966-4d3b-8e73-cbbd13fe2c77"
      },
      "execution_count": null,
      "outputs": [
        {
          "output_type": "execute_result",
          "data": {
            "text/plain": [
              "array([ 7, 10,  5, ...,  5,  9, 10])"
            ]
          },
          "metadata": {},
          "execution_count": 5
        }
      ]
    },
    {
      "cell_type": "code",
      "source": [
        "len(score)"
      ],
      "metadata": {
        "colab": {
          "base_uri": "https://localhost:8080/"
        },
        "id": "tB-EDit9dlKw",
        "outputId": "920ac194-5738-4d4c-d6e8-b552d69f24a4"
      },
      "execution_count": null,
      "outputs": [
        {
          "output_type": "execute_result",
          "data": {
            "text/plain": [
              "1167"
            ]
          },
          "metadata": {},
          "execution_count": 6
        }
      ]
    },
    {
      "cell_type": "code",
      "source": [
        "detractors = score[score <= 6]"
      ],
      "metadata": {
        "id": "C_bdK5q-d0RN"
      },
      "execution_count": null,
      "outputs": []
    },
    {
      "cell_type": "code",
      "source": [
        "detractors"
      ],
      "metadata": {
        "colab": {
          "base_uri": "https://localhost:8080/"
        },
        "id": "d4Bhz2IQeAJu",
        "outputId": "e148f328-142c-46eb-eb10-ceae41016657"
      },
      "execution_count": null,
      "outputs": [
        {
          "output_type": "execute_result",
          "data": {
            "text/plain": [
              "array([5, 4, 4, 5, 1, 5, 5, 1, 4, 5, 4, 4, 4, 5, 1, 4, 1, 4, 1, 5, 5, 1,\n",
              "       1, 4, 1, 5, 4, 1, 1, 4, 1, 5, 1, 4, 4, 1, 1, 1, 1, 1, 1, 1, 4, 1,\n",
              "       1, 5, 5, 5, 4, 4, 1, 4, 1, 4, 1, 5, 1, 1, 5, 4, 4, 4, 4, 1, 4, 5,\n",
              "       4, 4, 1, 1, 5, 5, 1, 5, 1, 5, 5, 4, 5, 4, 1, 1, 1, 1, 4, 1, 4, 4,\n",
              "       5, 4, 1, 1, 1, 1, 5, 4, 5, 5, 4, 1, 5, 1, 4, 4, 1, 1, 1, 4, 4, 5,\n",
              "       5, 4, 5, 5, 5, 1, 4, 1, 5, 5, 1, 5, 1, 1, 5, 5, 4, 4, 1, 4, 4, 4,\n",
              "       1, 1, 4, 4, 4, 5, 5, 1, 1, 4, 1, 4, 1, 4, 1, 4, 1, 4, 1, 5, 4, 4,\n",
              "       5, 1, 4, 5, 5, 5, 1, 5, 4, 1, 1, 5, 5, 5, 4, 5, 4, 4, 1, 4, 4, 4,\n",
              "       4, 5, 1, 5, 5, 1, 4, 4, 5, 1, 1, 4, 5, 5, 5, 1, 4, 5, 5, 4, 1, 5,\n",
              "       5, 5, 1, 1, 5, 5, 1, 1, 1, 4, 5, 5, 4, 4, 4, 5, 1, 4, 1, 4, 5, 4,\n",
              "       5, 5, 1, 5, 1, 5, 5, 1, 4, 5, 5, 4, 1, 5, 1, 4, 1, 4, 1, 1, 1, 1,\n",
              "       1, 1, 4, 1, 5, 4, 5, 1, 5, 1, 5, 4, 4, 4, 4, 5, 5, 1, 4, 1, 5, 5,\n",
              "       1, 4, 1, 1, 4, 4, 4, 4, 1, 4, 1, 1, 4, 1, 5, 4, 1, 1, 5, 4, 5, 4,\n",
              "       4, 4, 1, 5, 5, 1, 4, 5, 4, 4, 4, 1, 4, 1, 4, 4, 4, 5, 1, 1, 1, 4,\n",
              "       5, 5, 1, 5, 4, 5, 5, 4, 1, 1, 5, 5, 5, 1, 4, 5, 4, 5, 5, 5, 1, 4,\n",
              "       1, 5])"
            ]
          },
          "metadata": {},
          "execution_count": 8
        }
      ]
    },
    {
      "cell_type": "code",
      "source": [
        "len(detractors)"
      ],
      "metadata": {
        "colab": {
          "base_uri": "https://localhost:8080/"
        },
        "id": "UPwhTnCFeBK-",
        "outputId": "4cbb8da6-85fe-4ce2-e27a-37a67c7c8daa"
      },
      "execution_count": null,
      "outputs": [
        {
          "output_type": "execute_result",
          "data": {
            "text/plain": [
              "332"
            ]
          },
          "metadata": {},
          "execution_count": 9
        }
      ]
    },
    {
      "cell_type": "code",
      "source": [
        "332/1167"
      ],
      "metadata": {
        "colab": {
          "base_uri": "https://localhost:8080/"
        },
        "id": "nccrwNOMeFLg",
        "outputId": "985dfe1a-2c8f-4e27-fce7-1190328f8253"
      },
      "execution_count": null,
      "outputs": [
        {
          "output_type": "execute_result",
          "data": {
            "text/plain": [
              "0.28449014567266495"
            ]
          },
          "metadata": {},
          "execution_count": 10
        }
      ]
    },
    {
      "cell_type": "code",
      "source": [
        "promoters = score[score >= 9]"
      ],
      "metadata": {
        "id": "HvA1RJkQeLXe"
      },
      "execution_count": null,
      "outputs": []
    },
    {
      "cell_type": "code",
      "source": [
        "promoters"
      ],
      "metadata": {
        "colab": {
          "base_uri": "https://localhost:8080/"
        },
        "id": "HG_ll_0feSqG",
        "outputId": "3710eb40-c41a-480e-b4c0-9b95dc5d646b"
      },
      "execution_count": null,
      "outputs": [
        {
          "output_type": "execute_result",
          "data": {
            "text/plain": [
              "array([10,  9,  9,  9,  9,  9, 10,  9,  9, 10,  9,  9,  9,  9,  9,  9,  9,\n",
              "       10, 10,  9, 10,  9, 10,  9,  9, 10, 10,  9, 10,  9, 10, 10, 10,  9,\n",
              "        9, 10, 10, 10,  9, 10,  9, 10,  9,  9,  9, 10,  9,  9,  9,  9,  9,\n",
              "        9, 10,  9,  9,  9, 10,  9, 10,  9,  9,  9,  9,  9, 10, 10,  9, 10,\n",
              "        9,  9, 10,  9,  9, 10,  9,  9,  9,  9,  9,  9,  9,  9,  9,  9,  9,\n",
              "       10,  9,  9,  9,  9,  9,  9,  9,  9, 10,  9,  9,  9,  9,  9, 10, 10,\n",
              "        9, 10, 10, 10, 10,  9, 10,  9,  9,  9,  9,  9,  9,  9, 10,  9, 10,\n",
              "        9, 10,  9, 10, 10, 10,  9,  9, 10, 10,  9,  9,  9,  9, 10,  9,  9,\n",
              "        9,  9, 10, 10,  9,  9,  9, 10,  9,  9,  9,  9,  9, 10,  9,  9,  9,\n",
              "       10,  9, 10, 10,  9,  9,  9,  9, 10,  9, 10,  9,  9,  9,  9, 10,  9,\n",
              "       10,  9,  9,  9,  9,  9,  9,  9,  9,  9,  9,  9, 10, 10,  9,  9,  9,\n",
              "       10,  9, 10, 10, 10, 10, 10,  9,  9,  9,  9, 10, 10, 10,  9,  9, 10,\n",
              "        9, 10, 10, 10, 10,  9, 10, 10,  9, 10,  9,  9,  9,  9, 10,  9, 10,\n",
              "        9, 10,  9,  9,  9,  9, 10,  9,  9,  9,  9,  9, 10,  9, 10, 10,  9,\n",
              "       10, 10, 10,  9,  9,  9,  9,  9,  9, 10,  9,  9, 10,  9, 10, 10,  9,\n",
              "        9,  9, 10, 10, 10, 10,  9,  9,  9, 10, 10,  9, 10,  9,  9,  9, 10,\n",
              "        9,  9,  9,  9,  9,  9,  9,  9,  9,  9, 10,  9,  9,  9, 10,  9, 10,\n",
              "        9, 10,  9, 10,  9,  9, 10, 10,  9,  9,  9, 10,  9,  9, 10,  9,  9,\n",
              "        9,  9,  9,  9, 10, 10,  9, 10,  9,  9,  9,  9, 10,  9,  9,  9,  9,\n",
              "       10,  9, 10,  9, 10,  9, 10, 10,  9, 10, 10,  9, 10,  9,  9,  9,  9,\n",
              "        9, 10,  9, 10, 10,  9, 10, 10,  9,  9, 10,  9, 10, 10,  9, 10, 10,\n",
              "       10,  9,  9,  9, 10,  9,  9,  9, 10,  9,  9,  9,  9,  9, 10,  9,  9,\n",
              "        9, 10,  9,  9,  9,  9,  9, 10,  9, 10,  9,  9, 10,  9,  9,  9,  9,\n",
              "        9,  9, 10,  9,  9,  9,  9,  9,  9,  9,  9,  9,  9, 10,  9, 10,  9,\n",
              "        9,  9,  9,  9,  9,  9,  9,  9,  9,  9,  9,  9,  9, 10, 10,  9,  9,\n",
              "        9,  9, 10,  9, 10,  9, 10, 10,  9,  9, 10,  9, 10, 10, 10,  9,  9,\n",
              "        9, 10, 10,  9,  9,  9, 10,  9,  9,  9,  9, 10,  9, 10,  9,  9, 10,\n",
              "        9,  9,  9, 10,  9,  9,  9,  9, 10,  9,  9,  9,  9,  9,  9, 10,  9,\n",
              "       10, 10,  9,  9,  9, 10, 10, 10, 10,  9,  9, 10, 10,  9, 10,  9, 10,\n",
              "        9, 10,  9,  9, 10,  9, 10, 10,  9,  9,  9,  9,  9,  9,  9,  9,  9,\n",
              "        9,  9,  9,  9,  9,  9,  9,  9,  9,  9,  9,  9,  9,  9,  9,  9,  9,\n",
              "       10, 10,  9,  9,  9,  9, 10, 10,  9, 10, 10,  9, 10, 10,  9, 10, 10,\n",
              "       10,  9,  9, 10, 10, 10,  9,  9, 10, 10,  9,  9,  9,  9,  9,  9, 10,\n",
              "       10, 10, 10, 10, 10,  9,  9,  9,  9, 10, 10,  9,  9,  9,  9,  9, 10,\n",
              "       10,  9, 10, 10,  9, 10, 10,  9, 10, 10,  9, 10,  9, 10, 10,  9, 10,\n",
              "       10,  9,  9,  9,  9, 10,  9,  9, 10, 10, 10, 10,  9, 10])"
            ]
          },
          "metadata": {},
          "execution_count": 12
        }
      ]
    },
    {
      "cell_type": "code",
      "source": [
        "len(promoters)"
      ],
      "metadata": {
        "colab": {
          "base_uri": "https://localhost:8080/"
        },
        "id": "7d6le6EceUQq",
        "outputId": "7e86c53c-c17a-4be5-b3f6-453a787d73ba"
      },
      "execution_count": null,
      "outputs": [
        {
          "output_type": "execute_result",
          "data": {
            "text/plain": [
              "609"
            ]
          },
          "metadata": {},
          "execution_count": 13
        }
      ]
    },
    {
      "cell_type": "code",
      "source": [
        "609/1167"
      ],
      "metadata": {
        "colab": {
          "base_uri": "https://localhost:8080/"
        },
        "id": "1LVOUHsTeXaa",
        "outputId": "42815830-7ffe-4e51-c6aa-a4ea1648d3e3"
      },
      "execution_count": null,
      "outputs": [
        {
          "output_type": "execute_result",
          "data": {
            "text/plain": [
              "0.5218508997429306"
            ]
          },
          "metadata": {},
          "execution_count": 14
        }
      ]
    },
    {
      "cell_type": "code",
      "source": [
        "52-28"
      ],
      "metadata": {
        "colab": {
          "base_uri": "https://localhost:8080/"
        },
        "id": "Fnm8qydreaOL",
        "outputId": "df863c4f-40ea-4ed0-8bb0-259c097fe105"
      },
      "execution_count": null,
      "outputs": [
        {
          "output_type": "execute_result",
          "data": {
            "text/plain": [
              "24"
            ]
          },
          "metadata": {},
          "execution_count": 15
        }
      ]
    },
    {
      "cell_type": "code",
      "source": [],
      "metadata": {
        "id": "tD6088q-efj8"
      },
      "execution_count": null,
      "outputs": []
    }
  ]
}